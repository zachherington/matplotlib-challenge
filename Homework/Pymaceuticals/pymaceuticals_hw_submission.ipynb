{
 "cells": [
  {
   "cell_type": "markdown",
   "metadata": {},
   "source": [
    "## Observations and Insights "
   ]
  },
  {
   "cell_type": "markdown",
   "metadata": {},
   "source": []
  },
  {
   "cell_type": "code",
   "execution_count": 89,
   "metadata": {},
   "outputs": [
    {
     "data": {
      "text/html": [
       "<div>\n",
       "<style scoped>\n",
       "    .dataframe tbody tr th:only-of-type {\n",
       "        vertical-align: middle;\n",
       "    }\n",
       "\n",
       "    .dataframe tbody tr th {\n",
       "        vertical-align: top;\n",
       "    }\n",
       "\n",
       "    .dataframe thead th {\n",
       "        text-align: right;\n",
       "    }\n",
       "</style>\n",
       "<table border=\"1\" class=\"dataframe\">\n",
       "  <thead>\n",
       "    <tr style=\"text-align: right;\">\n",
       "      <th></th>\n",
       "      <th>Mouse ID</th>\n",
       "      <th>Drug Regimen</th>\n",
       "      <th>Sex</th>\n",
       "      <th>Age_months</th>\n",
       "      <th>Weight (g)</th>\n",
       "      <th>Timepoint</th>\n",
       "      <th>Tumor Volume (mm3)</th>\n",
       "      <th>Metastatic Sites</th>\n",
       "    </tr>\n",
       "  </thead>\n",
       "  <tbody>\n",
       "    <tr>\n",
       "      <th>0</th>\n",
       "      <td>k403</td>\n",
       "      <td>Ramicane</td>\n",
       "      <td>Male</td>\n",
       "      <td>21</td>\n",
       "      <td>16</td>\n",
       "      <td>0</td>\n",
       "      <td>45.000000</td>\n",
       "      <td>0</td>\n",
       "    </tr>\n",
       "    <tr>\n",
       "      <th>1</th>\n",
       "      <td>k403</td>\n",
       "      <td>Ramicane</td>\n",
       "      <td>Male</td>\n",
       "      <td>21</td>\n",
       "      <td>16</td>\n",
       "      <td>5</td>\n",
       "      <td>38.825898</td>\n",
       "      <td>0</td>\n",
       "    </tr>\n",
       "    <tr>\n",
       "      <th>2</th>\n",
       "      <td>k403</td>\n",
       "      <td>Ramicane</td>\n",
       "      <td>Male</td>\n",
       "      <td>21</td>\n",
       "      <td>16</td>\n",
       "      <td>10</td>\n",
       "      <td>35.014271</td>\n",
       "      <td>1</td>\n",
       "    </tr>\n",
       "    <tr>\n",
       "      <th>3</th>\n",
       "      <td>k403</td>\n",
       "      <td>Ramicane</td>\n",
       "      <td>Male</td>\n",
       "      <td>21</td>\n",
       "      <td>16</td>\n",
       "      <td>15</td>\n",
       "      <td>34.223992</td>\n",
       "      <td>1</td>\n",
       "    </tr>\n",
       "    <tr>\n",
       "      <th>4</th>\n",
       "      <td>k403</td>\n",
       "      <td>Ramicane</td>\n",
       "      <td>Male</td>\n",
       "      <td>21</td>\n",
       "      <td>16</td>\n",
       "      <td>20</td>\n",
       "      <td>32.997729</td>\n",
       "      <td>1</td>\n",
       "    </tr>\n",
       "  </tbody>\n",
       "</table>\n",
       "</div>"
      ],
      "text/plain": [
       "  Mouse ID Drug Regimen   Sex  Age_months  Weight (g)  Timepoint  \\\n",
       "0     k403     Ramicane  Male          21          16          0   \n",
       "1     k403     Ramicane  Male          21          16          5   \n",
       "2     k403     Ramicane  Male          21          16         10   \n",
       "3     k403     Ramicane  Male          21          16         15   \n",
       "4     k403     Ramicane  Male          21          16         20   \n",
       "\n",
       "   Tumor Volume (mm3)  Metastatic Sites  \n",
       "0           45.000000                 0  \n",
       "1           38.825898                 0  \n",
       "2           35.014271                 1  \n",
       "3           34.223992                 1  \n",
       "4           32.997729                 1  "
      ]
     },
     "execution_count": 89,
     "metadata": {},
     "output_type": "execute_result"
    }
   ],
   "source": [
    "# Dependencies and Setup\n",
    "import matplotlib.pyplot as plt\n",
    "import pandas as pd\n",
    "import scipy.stats as st\n",
    "import numpy as np\n",
    "\n",
    "# Study data files\n",
    "mouse_metadata_path = \"data/Mouse_metadata.csv\"\n",
    "study_results_path = \"data/Study_results.csv\"\n",
    "\n",
    "# Read the mouse data and the study results\n",
    "mouse_metadata = pd.read_csv(mouse_metadata_path)\n",
    "study_results = pd.read_csv(study_results_path)\n",
    "\n",
    "# Combine the data into a single dataset\n",
    "merge_df = pd.merge(mouse_metadata,study_results, on = \"Mouse ID\")\n",
    "\n",
    "# Display the data table for preview\n",
    "merge_df.head()\n"
   ]
  },
  {
   "cell_type": "code",
   "execution_count": 90,
   "metadata": {},
   "outputs": [
    {
     "data": {
      "text/html": [
       "<div>\n",
       "<style scoped>\n",
       "    .dataframe tbody tr th:only-of-type {\n",
       "        vertical-align: middle;\n",
       "    }\n",
       "\n",
       "    .dataframe tbody tr th {\n",
       "        vertical-align: top;\n",
       "    }\n",
       "\n",
       "    .dataframe thead th {\n",
       "        text-align: right;\n",
       "    }\n",
       "</style>\n",
       "<table border=\"1\" class=\"dataframe\">\n",
       "  <thead>\n",
       "    <tr style=\"text-align: right;\">\n",
       "      <th></th>\n",
       "      <th>Unique Mice</th>\n",
       "    </tr>\n",
       "  </thead>\n",
       "  <tbody>\n",
       "    <tr>\n",
       "      <th>0</th>\n",
       "      <td>249</td>\n",
       "    </tr>\n",
       "  </tbody>\n",
       "</table>\n",
       "</div>"
      ],
      "text/plain": [
       "   Unique Mice\n",
       "0          249"
      ]
     },
     "execution_count": 90,
     "metadata": {},
     "output_type": "execute_result"
    }
   ],
   "source": [
    "# Checking the number of mice.\n",
    "mice = merge_df['Mouse ID'].nunique()\n",
    "mice_pd = pd.DataFrame({'Unique Mice': [mice]})\n",
    "mice_pd"
   ]
  },
  {
   "cell_type": "code",
   "execution_count": 91,
   "metadata": {
    "scrolled": false
   },
   "outputs": [
    {
     "data": {
      "text/html": [
       "<div>\n",
       "<style scoped>\n",
       "    .dataframe tbody tr th:only-of-type {\n",
       "        vertical-align: middle;\n",
       "    }\n",
       "\n",
       "    .dataframe tbody tr th {\n",
       "        vertical-align: top;\n",
       "    }\n",
       "\n",
       "    .dataframe thead th {\n",
       "        text-align: right;\n",
       "    }\n",
       "</style>\n",
       "<table border=\"1\" class=\"dataframe\">\n",
       "  <thead>\n",
       "    <tr style=\"text-align: right;\">\n",
       "      <th></th>\n",
       "      <th>Unique Data Points</th>\n",
       "      <th>All Data Points</th>\n",
       "    </tr>\n",
       "  </thead>\n",
       "  <tbody>\n",
       "    <tr>\n",
       "      <th>0</th>\n",
       "      <td>1888</td>\n",
       "      <td>1893</td>\n",
       "    </tr>\n",
       "  </tbody>\n",
       "</table>\n",
       "</div>"
      ],
      "text/plain": [
       "   Unique Data Points  All Data Points\n",
       "0                1888             1893"
      ]
     },
     "execution_count": 91,
     "metadata": {},
     "output_type": "execute_result"
    }
   ],
   "source": [
    "# Create a clean data frame by dropping the duplicate mice by its ID and Timepoint\n",
    "cleaned_df = merge_df.drop_duplicates(['Mouse ID','Timepoint'])\n",
    "\n",
    "# Checking the number of mice in the un-clean DataFrame.\n",
    "all_lines = merge_df['Mouse ID'].count()\n",
    "\n",
    "# Checking the number of mice in the clean DataFrame.\n",
    "unique_lines = cleaned_df['Mouse ID'].count()\n",
    "\n",
    "# Preview the points of the cleaned and uncleaned data lines\n",
    "unique_lines_pd = pd.DataFrame({'Unique Data Points': [unique_lines], 'All Data Points': [all_lines]})\n",
    "unique_lines_pd"
   ]
  },
  {
   "cell_type": "markdown",
   "metadata": {},
   "source": [
    "## Summary Statistics"
   ]
  },
  {
   "cell_type": "code",
   "execution_count": 92,
   "metadata": {},
   "outputs": [
    {
     "data": {
      "text/html": [
       "<div>\n",
       "<style scoped>\n",
       "    .dataframe tbody tr th:only-of-type {\n",
       "        vertical-align: middle;\n",
       "    }\n",
       "\n",
       "    .dataframe tbody tr th {\n",
       "        vertical-align: top;\n",
       "    }\n",
       "\n",
       "    .dataframe thead th {\n",
       "        text-align: right;\n",
       "    }\n",
       "</style>\n",
       "<table border=\"1\" class=\"dataframe\">\n",
       "  <thead>\n",
       "    <tr style=\"text-align: right;\">\n",
       "      <th></th>\n",
       "      <th>Tumor Volume - Mean</th>\n",
       "      <th>Tumor Volume - Median</th>\n",
       "      <th>Tumor Volume - Variance</th>\n",
       "      <th>Tumor Volume - Standard Deviation</th>\n",
       "      <th>Tumor Volume - Standard Error Measure</th>\n",
       "    </tr>\n",
       "    <tr>\n",
       "      <th>Drug Regimen</th>\n",
       "      <th></th>\n",
       "      <th></th>\n",
       "      <th></th>\n",
       "      <th></th>\n",
       "      <th></th>\n",
       "    </tr>\n",
       "  </thead>\n",
       "  <tbody>\n",
       "    <tr>\n",
       "      <th>Capomulin</th>\n",
       "      <td>40.675741</td>\n",
       "      <td>41.557809</td>\n",
       "      <td>24.947764</td>\n",
       "      <td>4.994774</td>\n",
       "      <td>0.329346</td>\n",
       "    </tr>\n",
       "    <tr>\n",
       "      <th>Ceftamin</th>\n",
       "      <td>52.591172</td>\n",
       "      <td>51.776157</td>\n",
       "      <td>39.290177</td>\n",
       "      <td>6.268188</td>\n",
       "      <td>0.469821</td>\n",
       "    </tr>\n",
       "    <tr>\n",
       "      <th>Infubinol</th>\n",
       "      <td>52.884795</td>\n",
       "      <td>51.820584</td>\n",
       "      <td>43.128684</td>\n",
       "      <td>6.567243</td>\n",
       "      <td>0.492236</td>\n",
       "    </tr>\n",
       "    <tr>\n",
       "      <th>Ketapril</th>\n",
       "      <td>55.235638</td>\n",
       "      <td>53.698743</td>\n",
       "      <td>68.553577</td>\n",
       "      <td>8.279709</td>\n",
       "      <td>0.603860</td>\n",
       "    </tr>\n",
       "    <tr>\n",
       "      <th>Naftisol</th>\n",
       "      <td>54.331565</td>\n",
       "      <td>52.509285</td>\n",
       "      <td>66.173479</td>\n",
       "      <td>8.134708</td>\n",
       "      <td>0.596466</td>\n",
       "    </tr>\n",
       "    <tr>\n",
       "      <th>Placebo</th>\n",
       "      <td>54.033581</td>\n",
       "      <td>52.288934</td>\n",
       "      <td>61.168083</td>\n",
       "      <td>7.821003</td>\n",
       "      <td>0.581331</td>\n",
       "    </tr>\n",
       "    <tr>\n",
       "      <th>Propriva</th>\n",
       "      <td>52.393463</td>\n",
       "      <td>50.909965</td>\n",
       "      <td>43.138803</td>\n",
       "      <td>6.568014</td>\n",
       "      <td>0.525862</td>\n",
       "    </tr>\n",
       "    <tr>\n",
       "      <th>Ramicane</th>\n",
       "      <td>40.216745</td>\n",
       "      <td>40.673236</td>\n",
       "      <td>23.486704</td>\n",
       "      <td>4.846308</td>\n",
       "      <td>0.320955</td>\n",
       "    </tr>\n",
       "    <tr>\n",
       "      <th>Stelasyn</th>\n",
       "      <td>54.233149</td>\n",
       "      <td>52.431737</td>\n",
       "      <td>59.450562</td>\n",
       "      <td>7.710419</td>\n",
       "      <td>0.573111</td>\n",
       "    </tr>\n",
       "    <tr>\n",
       "      <th>Zoniferol</th>\n",
       "      <td>53.236507</td>\n",
       "      <td>51.818479</td>\n",
       "      <td>48.533355</td>\n",
       "      <td>6.966589</td>\n",
       "      <td>0.516398</td>\n",
       "    </tr>\n",
       "  </tbody>\n",
       "</table>\n",
       "</div>"
      ],
      "text/plain": [
       "              Tumor Volume - Mean  Tumor Volume - Median  \\\n",
       "Drug Regimen                                               \n",
       "Capomulin               40.675741              41.557809   \n",
       "Ceftamin                52.591172              51.776157   \n",
       "Infubinol               52.884795              51.820584   \n",
       "Ketapril                55.235638              53.698743   \n",
       "Naftisol                54.331565              52.509285   \n",
       "Placebo                 54.033581              52.288934   \n",
       "Propriva                52.393463              50.909965   \n",
       "Ramicane                40.216745              40.673236   \n",
       "Stelasyn                54.233149              52.431737   \n",
       "Zoniferol               53.236507              51.818479   \n",
       "\n",
       "              Tumor Volume - Variance  Tumor Volume - Standard Deviation  \\\n",
       "Drug Regimen                                                               \n",
       "Capomulin                   24.947764                           4.994774   \n",
       "Ceftamin                    39.290177                           6.268188   \n",
       "Infubinol                   43.128684                           6.567243   \n",
       "Ketapril                    68.553577                           8.279709   \n",
       "Naftisol                    66.173479                           8.134708   \n",
       "Placebo                     61.168083                           7.821003   \n",
       "Propriva                    43.138803                           6.568014   \n",
       "Ramicane                    23.486704                           4.846308   \n",
       "Stelasyn                    59.450562                           7.710419   \n",
       "Zoniferol                   48.533355                           6.966589   \n",
       "\n",
       "              Tumor Volume - Standard Error Measure  \n",
       "Drug Regimen                                         \n",
       "Capomulin                                  0.329346  \n",
       "Ceftamin                                   0.469821  \n",
       "Infubinol                                  0.492236  \n",
       "Ketapril                                   0.603860  \n",
       "Naftisol                                   0.596466  \n",
       "Placebo                                    0.581331  \n",
       "Propriva                                   0.525862  \n",
       "Ramicane                                   0.320955  \n",
       "Stelasyn                                   0.573111  \n",
       "Zoniferol                                  0.516398  "
      ]
     },
     "execution_count": 92,
     "metadata": {},
     "output_type": "execute_result"
    }
   ],
   "source": [
    "# Generate a summary statistics table of mean, median, variance, standard deviation, and SEM of the tumor volume \n",
    "# for each regimen\n",
    "\n",
    "# Summarize Tumor Volume Stats by Drug Regimen\n",
    "tv_mean = cleaned_df.groupby('Drug Regimen')['Tumor Volume (mm3)'].mean()\n",
    "tv_median = cleaned_df.groupby('Drug Regimen')['Tumor Volume (mm3)'].median()\n",
    "tv_variance = cleaned_df.groupby('Drug Regimen')['Tumor Volume (mm3)'].var()\n",
    "tv_stdev = cleaned_df.groupby('Drug Regimen')['Tumor Volume (mm3)'].std()\n",
    "tv_sem = cleaned_df.groupby('Drug Regimen')['Tumor Volume (mm3)'].sem()\n",
    "\n",
    "\n",
    "# Creating a DataFrame to store each stat\n",
    "tv_stats_summary = pd.DataFrame({'Tumor Volume - Mean': tv_mean,\n",
    "                                  'Tumor Volume - Median': tv_median, \n",
    "                                  'Tumor Volume - Variance': tv_variance,\n",
    "                                  'Tumor Volume - Standard Deviation': tv_stdev,\n",
    "                                   'Tumor Volume - Standard Error Measure': tv_sem})\n",
    "tv_stats_summary\n",
    "\n",
    "\n",
    "# Check to make sure all regimens are included in df - 10 total regimens\n",
    "# total_regimens = cleaned_df['Drug Regimen'].nunique()\n",
    "# total_regimens "
   ]
  },
  {
   "cell_type": "markdown",
   "metadata": {},
   "source": [
    "## Bar and Pie Charts"
   ]
  },
  {
   "cell_type": "code",
   "execution_count": 98,
   "metadata": {},
   "outputs": [
    {
     "data": {
      "text/plain": [
       "<matplotlib.axes._subplots.AxesSubplot at 0x1caa3463f98>"
      ]
     },
     "execution_count": 98,
     "metadata": {},
     "output_type": "execute_result"
    },
    {
     "data": {
      "image/png": "[encoded data removed]",
      "text/plain": [
       "<Figure size 432x288 with 1 Axes>"
      ]
     },
     "metadata": {
      "needs_background": "light"
     },
     "output_type": "display_data"
    }
   ],
   "source": [
    "# Generate a bar plot showing the total number of mice for each treatment throughout the course of the study using pandas. \n",
    "\n",
    "# Dataframe for the plot\n",
    "mice_by_regimen = pd.DataFrame(cleaned_df.groupby('Drug Regimen')['Mouse ID'].count())\n",
    "mice_by_regimen.plot.bar()"
   ]
  },
  {
   "cell_type": "code",
   "execution_count": 120,
   "metadata": {},
   "outputs": [
    {
     "data": {
      "text/plain": [
       "<matplotlib.legend.Legend at 0x1caa5283128>"
      ]
     },
     "execution_count": 120,
     "metadata": {},
     "output_type": "execute_result"
    },
    {
     "data": {
      "image/png": "[encoded data removed]",
      "text/plain": [
       "<Figure size 432x288 with 1 Axes>"
      ]
     },
     "metadata": {
      "needs_background": "light"
     },
     "output_type": "display_data"
    }
   ],
   "source": [
    "# Generate a bar plot showing the total number of mice for each treatment throughout the course of the study using pyplot.\n",
    "x_axis = mice_by_regimen.index.tolist()\n",
    "y_axis = mice_by_regimen['Mouse ID'].tolist()\n",
    "\n",
    "plt.bar(x_axis, y_axis, width=.5)\n",
    "plt.xticks(rotation=90)\n",
    "plt.xlabel('Drug Regimen')\n",
    "plt.legend(['Mouse ID'], loc = 'upper center')"
   ]
  },
  {
   "cell_type": "code",
   "execution_count": 127,
   "metadata": {},
   "outputs": [
    {
     "data": {
      "text/plain": [
       "array([<matplotlib.axes._subplots.AxesSubplot object at 0x000001CAA52D4240>],\n",
       "      dtype=object)"
      ]
     },
     "execution_count": 127,
     "metadata": {},
     "output_type": "execute_result"
    },
    {
     "data": {
      "image/png": "[encoded data removed]",
      "text/plain": [
       "<Figure size 432x288 with 1 Axes>"
      ]
     },
     "metadata": {},
     "output_type": "display_data"
    }
   ],
   "source": [
    "# Generate a pie plot showing the distribution of female versus male mice using pandas\n",
    "mice_by_sex = pd.DataFrame(mouse_metadata.groupby('Sex')['Mouse ID'].count())\n",
    "mice_by_sex.plot.pie(subplots = True)\n"
   ]
  },
  {
   "cell_type": "code",
   "execution_count": 132,
   "metadata": {},
   "outputs": [
    {
     "data": {
      "text/plain": [
       "<matplotlib.legend.Legend at 0x1caa5483278>"
      ]
     },
     "execution_count": 132,
     "metadata": {},
     "output_type": "execute_result"
    },
    {
     "data": {
      "image/png": "[encoded data removed]",
      "text/plain": [
       "<Figure size 432x288 with 1 Axes>"
      ]
     },
     "metadata": {},
     "output_type": "display_data"
    }
   ],
   "source": [
    "# Generate a pie plot showing the distribution of female versus male mice using pyplot\n",
    "x_axis = mice_by_sex.index.tolist()\n",
    "sex = mice_by_sex['Mouse ID'].tolist()\n",
    "\n",
    "plt.pie(sex, labels=x_axis)\n",
    "plt.xticks(rotation=90)\n",
    "plt.ylabel('Mouse ID')\n",
    "plt.legend()\n"
   ]
  },
  {
   "cell_type": "markdown",
   "metadata": {},
   "source": [
    "## Quartiles, Outliers and Boxplots"
   ]
  },
  {
   "cell_type": "code",
   "execution_count": 212,
   "metadata": {},
   "outputs": [],
   "source": [
    "# Calculate the final tumor volume of each mouse across four of the treatment regimens:  \n",
    "# Capomulin, Ramicane, Infubinol, and Ceftamin\n"
   ]
  },
  {
   "cell_type": "code",
   "execution_count": 213,
   "metadata": {},
   "outputs": [
    {
     "data": {
      "text/html": [
       "<div>\n",
       "<style scoped>\n",
       "    .dataframe tbody tr th:only-of-type {\n",
       "        vertical-align: middle;\n",
       "    }\n",
       "\n",
       "    .dataframe tbody tr th {\n",
       "        vertical-align: top;\n",
       "    }\n",
       "\n",
       "    .dataframe thead th {\n",
       "        text-align: right;\n",
       "    }\n",
       "</style>\n",
       "<table border=\"1\" class=\"dataframe\">\n",
       "  <thead>\n",
       "    <tr style=\"text-align: right;\">\n",
       "      <th></th>\n",
       "    </tr>\n",
       "  </thead>\n",
       "  <tbody>\n",
       "  </tbody>\n",
       "</table>\n",
       "</div>"
      ],
      "text/plain": [
       "Empty DataFrame\n",
       "Columns: []\n",
       "Index: []"
      ]
     },
     "execution_count": 213,
     "metadata": {},
     "output_type": "execute_result"
    }
   ],
   "source": [
    "# Setting df for Capomulin\n",
    "cap_finaltv_df = cleaned_df.loc[(cleaned_df['Drug Regimen'] == 'Capomulin') & (cleaned_df['Timepoint'] == 45)]\n",
    "cap_volumes = cap_finaltv_df['Tumor Volume (mm3)']\n",
    "\n",
    "# Capomulin: Quartiles, IQR, and Outlier Bourdaries\n",
    "cap_quart = cap_volumes.quantile([.25,.5,.75])\n",
    "cap_lquart = cap_quart[0.25]\n",
    "cap_uquart = cap_quart[0.75]\n",
    "cap_iqr = cap_uquart - cap_lquart\n",
    "cap_lbound = cap_lquart - (1.5*cap_iqr)\n",
    "cap_ubound = cap_uquart + (1.5*cap_iqr)\n",
    "\n",
    "# List of potential outliers\n",
    "cap_outliers = pd.DataFrame([])\n",
    "\n",
    "for vol in cap_volumes:\n",
    "    if vol > cap_ubound:\n",
    "        cap_outliers = cap_outliers.append(pd.DataFrame({'Outliers': vol}))\n",
    "    if  vol < cap_lbound:\n",
    "        cap_outliers = cap_outliers.append(pd.DataFrame({'Outliers': vol}))\n",
    "cap_outliers"
   ]
  },
  {
   "cell_type": "code",
   "execution_count": 214,
   "metadata": {},
   "outputs": [
    {
     "data": {
      "text/html": [
       "<div>\n",
       "<style scoped>\n",
       "    .dataframe tbody tr th:only-of-type {\n",
       "        vertical-align: middle;\n",
       "    }\n",
       "\n",
       "    .dataframe tbody tr th {\n",
       "        vertical-align: top;\n",
       "    }\n",
       "\n",
       "    .dataframe thead th {\n",
       "        text-align: right;\n",
       "    }\n",
       "</style>\n",
       "<table border=\"1\" class=\"dataframe\">\n",
       "  <thead>\n",
       "    <tr style=\"text-align: right;\">\n",
       "      <th></th>\n",
       "    </tr>\n",
       "  </thead>\n",
       "  <tbody>\n",
       "  </tbody>\n",
       "</table>\n",
       "</div>"
      ],
      "text/plain": [
       "Empty DataFrame\n",
       "Columns: []\n",
       "Index: []"
      ]
     },
     "execution_count": 214,
     "metadata": {},
     "output_type": "execute_result"
    }
   ],
   "source": [
    "# Setting df for Ramicane\n",
    "ram_final_vol = cleaned_df.loc[(cleaned_df['Drug Regimen'] == 'Ramicane') & (cleaned_df['Timepoint'] == 45)]\n",
    "ram_volumes = ram_final_vol['Tumor Volume (mm3)']\n",
    "\n",
    "# Ramicane: Quartiles, IQR, and Outlier Bourdaries\n",
    "ram_quart = ram_volumes.quantile([.25,.5,.75])\n",
    "ram_lquart = ram_quart[0.25]\n",
    "ram_uquart = ram_quart[0.75]\n",
    "ram_iqr = ram_uquart - ram_lquart\n",
    "ram_lbound = ram_lquart - (1.5*ram_iqr)\n",
    "ram_ubound = ram_uquart + (1.5*ram_iqr)\n",
    "\n",
    "# List of potential outliers\n",
    "ram_outliers = pd.DataFrame([])\n",
    "\n",
    "for vol in ram_volumes:\n",
    "    if vol > ram_ubound:\n",
    "        ram_outliers = ram_outliers.append(pd.DataFrame({'Outliers': vol}))\n",
    "    if  vol < ram_lbound:\n",
    "        ram_outliers = ram_outliers.append(pd.DataFrame({'Outliers': vol}))\n",
    "ram_outliers"
   ]
  },
  {
   "cell_type": "code",
   "execution_count": 215,
   "metadata": {},
   "outputs": [
    {
     "data": {
      "text/html": [
       "<div>\n",
       "<style scoped>\n",
       "    .dataframe tbody tr th:only-of-type {\n",
       "        vertical-align: middle;\n",
       "    }\n",
       "\n",
       "    .dataframe tbody tr th {\n",
       "        vertical-align: top;\n",
       "    }\n",
       "\n",
       "    .dataframe thead th {\n",
       "        text-align: right;\n",
       "    }\n",
       "</style>\n",
       "<table border=\"1\" class=\"dataframe\">\n",
       "  <thead>\n",
       "    <tr style=\"text-align: right;\">\n",
       "      <th></th>\n",
       "    </tr>\n",
       "  </thead>\n",
       "  <tbody>\n",
       "  </tbody>\n",
       "</table>\n",
       "</div>"
      ],
      "text/plain": [
       "Empty DataFrame\n",
       "Columns: []\n",
       "Index: []"
      ]
     },
     "execution_count": 215,
     "metadata": {},
     "output_type": "execute_result"
    }
   ],
   "source": [
    "# Setting df for Infubinol\n",
    "inf_final_vol = cleaned_df.loc[(cleaned_df['Drug Regimen'] == 'Infubinol') & (cleaned_df['Timepoint'] == 45)]\n",
    "inf_volumes = inf_final_vol['Tumor Volume (mm3)']\n",
    "\n",
    "# Infubinol: Quartiles, IQR, and Outlier Bourdaries\n",
    "inf_quart = inf_volumes.quantile([.25,.5,.75])\n",
    "inf_lquart = inf_quart[0.25]\n",
    "inf_uquart = inf_quart[0.75]\n",
    "inf_iqr = inf_uquart - inf_lquart\n",
    "inf_lbound = inf_lquart - (1.5*inf_iqr)\n",
    "inf_ubound = inf_uquart + (1.5*inf_iqr)\n",
    "\n",
    "# List of potential outliers\n",
    "inf_outliers = pd.DataFrame([])\n",
    "\n",
    "for vol in inf_volumes:\n",
    "    if vol > inf_ubound:\n",
    "        inf_outliers = inf_outliers.append(pd.DataFrame({'Outliers': vol}))\n",
    "    if  vol < inf_lbound:\n",
    "        inf_outliers = inf_outliers.append(pd.DataFrame({'Outliers': vol}))\n",
    "inf_outliers"
   ]
  },
  {
   "cell_type": "code",
   "execution_count": 216,
   "metadata": {},
   "outputs": [
    {
     "data": {
      "text/html": [
       "<div>\n",
       "<style scoped>\n",
       "    .dataframe tbody tr th:only-of-type {\n",
       "        vertical-align: middle;\n",
       "    }\n",
       "\n",
       "    .dataframe tbody tr th {\n",
       "        vertical-align: top;\n",
       "    }\n",
       "\n",
       "    .dataframe thead th {\n",
       "        text-align: right;\n",
       "    }\n",
       "</style>\n",
       "<table border=\"1\" class=\"dataframe\">\n",
       "  <thead>\n",
       "    <tr style=\"text-align: right;\">\n",
       "      <th></th>\n",
       "    </tr>\n",
       "  </thead>\n",
       "  <tbody>\n",
       "  </tbody>\n",
       "</table>\n",
       "</div>"
      ],
      "text/plain": [
       "Empty DataFrame\n",
       "Columns: []\n",
       "Index: []"
      ]
     },
     "execution_count": 216,
     "metadata": {},
     "output_type": "execute_result"
    }
   ],
   "source": [
    "# Setting df for Ceftamin\n",
    "cef_final_vol = cleaned_df.loc[(cleaned_df['Drug Regimen'] == 'Ceftamin') & (cleaned_df['Timepoint'] == 45)]\n",
    "cef_volumes = cef_final_vol['Tumor Volume (mm3)']\n",
    "\n",
    "# Ceftamin: Quartiles, IQR, and Outlier Bourdaries\n",
    "cef_quart = cef_volumes.quantile([.25,.5,.75])\n",
    "cef_lquart = cef_quart[0.25]\n",
    "cef_uquart = cef_quart[0.75]\n",
    "cef_iqr = cef_uquart - cef_lquart\n",
    "cef_lbound = cef_lquart - (1.5*cef_iqr)\n",
    "cef_ubound = cef_uquart + (1.5*cef_iqr)\n",
    "\n",
    "# List of potential outliers\n",
    "cef_outliers = pd.DataFrame([])\n",
    "\n",
    "for vol in cef_volumes:\n",
    "    if vol > cef_ubound:\n",
    "        cef_outliers = cef_outliers.append(pd.DataFrame({'Outliers': vol}))\n",
    "    if  vol < cef_lbound:\n",
    "        cef_outliers = cef_outliers.append(pd.DataFrame({'Outliers': vol}))\n",
    "cef_outliers"
   ]
  },
  {
   "cell_type": "code",
   "execution_count": 172,
   "metadata": {},
   "outputs": [],
   "source": [
    "# Put treatments into a list for for loop (and later for plot labels)\n",
    "regimens = ['Capomulin', 'Ramicane', 'Infubinol', 'Ceftamin']\n",
    "\n",
    "# Create empty list to fill with tumor vol data (for plotting)\n",
    "final_tv = []\n",
    "\n",
    "# Calculate the IQR and quantitatively determine if there are any potential outliers. \n",
    "for regimen in regimens:\n",
    "    \n",
    "    \n",
    "    # Locate the rows which contain mice on each drug and get the tumor volumes\n",
    "    \n",
    "    \n",
    "    # add subset \n",
    "    \n",
    "    \n",
    "    # Determine outliers using upper and lower bounds\n",
    "    "
   ]
  },
  {
   "cell_type": "code",
   "execution_count": null,
   "metadata": {},
   "outputs": [],
   "source": [
    "# Generate a box plot of the final tumor volume of each mouse across four regimens of interest\n"
   ]
  },
  {
   "cell_type": "markdown",
   "metadata": {},
   "source": [
    "## Line and Scatter Plots"
   ]
  },
  {
   "cell_type": "code",
   "execution_count": 262,
   "metadata": {},
   "outputs": [
    {
     "data": {
      "text/plain": [
       "Text(0.5, 1.0, 'Tumor Volume vs Time (Drug: Capomulin, Mouse ID: g316')"
      ]
     },
     "execution_count": 262,
     "metadata": {},
     "output_type": "execute_result"
    },
    {
     "data": {
      "image/png": "[encoded data removed]",
      "text/plain": [
       "<Figure size 432x288 with 1 Axes>"
      ]
     },
     "metadata": {
      "needs_background": "light"
     },
     "output_type": "display_data"
    }
   ],
   "source": [
    "# Generate a line plot of time point versus tumor volume for a mouse treated with Capomulin\n",
    "\n",
    "# Use .loc to get specific dataframe\n",
    "cap_g316 = cleaned_df.loc[(cleaned_df['Drug Regimen'] == 'Capomulin') & (cleaned_df['Mouse ID'] == 'g316')]\n",
    "\n",
    "# Set axes\n",
    "x_axis = cap_g316['Timepoint']\n",
    "y_axis = cap_g316['Tumor Volume (mm3)']\n",
    "plt.plot(x_axis,y_axis)\n",
    "plt.xlabel('Timepoint')\n",
    "plt.ylabel('Tumor Volume (mm3)')\n",
    "plt.title('Tumor Volume vs Time (Drug: Capomulin, Mouse ID: g316')"
   ]
  },
  {
   "cell_type": "code",
   "execution_count": 263,
   "metadata": {},
   "outputs": [
    {
     "data": {
      "text/plain": [
       "[<matplotlib.lines.Line2D at 0x1caa781e5f8>]"
      ]
     },
     "execution_count": 263,
     "metadata": {},
     "output_type": "execute_result"
    },
    {
     "data": {
      "image/png": "[encoded data removed]",
      "text/plain": [
       "<Figure size 432x288 with 1 Axes>"
      ]
     },
     "metadata": {
      "needs_background": "light"
     },
     "output_type": "display_data"
    }
   ],
   "source": [
    "# Generate a scatter plot of mouse weight versus average tumor volume for the Capomulin regimen\n",
    "\n",
    "# Use .loc to get specific dataframe\n",
    "cap_df = cleaned_df.loc[(cleaned_df['Drug Regimen'] == 'Capomulin')]\n",
    "unique_mice_df = cap_df.drop_duplicates('Mouse ID')\n",
    "\n",
    "# Set axes\n",
    "x_axis = unique_mice_df['Weight (g)']\n",
    "y_axis = cap_df.groupby('Mouse ID')['Tumor Volume (mm3)'].mean()\n",
    "w_avgtv_plot = plt.scatter(x_axis,y_axis)\n",
    "plt.xlabel('Weight (g)')\n",
    "plt.ylabel('Tumor Volume (mm3)')\n",
    "plt.title('Weight vs Tumor Volume for Capomulin')\n",
    "plt.plot(x_axis,regress_values,\"r-\")"
   ]
  },
  {
   "cell_type": "markdown",
   "metadata": {},
   "source": [
    "## Correlation and Regression"
   ]
  },
  {
   "cell_type": "code",
   "execution_count": 264,
   "metadata": {},
   "outputs": [
    {
     "name": "stdout",
     "output_type": "stream",
     "text": [
      "-0.23\n",
      "LinregressResult(slope=-0.2630159070651954, intercept=46.04736712600173, rvalue=-0.23201324646524474, pvalue=0.2644269311178806, stderr=0.22992694526126378)\n"
     ]
    }
   ],
   "source": [
    "# Calculate the correlation coefficient and linear regression model \n",
    "# for mouse weight and average tumor volume for the Capomulin regimen\n",
    "w_avgtv_corr = st.pearsonr(x_axis, y_axis)\n",
    "print(round(w_avgtv_corr[0],2))\n",
    "\n",
    "(slope, intercept, rvalue, pvalue, stderr) = st.linregress(x_axis,y_axis)\n",
    "print(w_avgtv_lreg)\n",
    "regress_values = x_axis * slope + intercept\n"
   ]
  },
  {
   "cell_type": "code",
   "execution_count": null,
   "metadata": {},
   "outputs": [],
   "source": []
  }
 ],
 "metadata": {
  "anaconda-cloud": {},
  "kernelspec": {
   "display_name": "Python 3",
   "language": "python",
   "name": "python3"
  },
  "language_info": {
   "codemirror_mode": {
    "name": "ipython",
    "version": 3
   },
   "file_extension": ".py",
   "mimetype": "text/x-python",
   "name": "python",
   "nbconvert_exporter": "python",
   "pygments_lexer": "ipython3",
   "version": "3.6.10"
  }
 },
 "nbformat": 4,
 "nbformat_minor": 2
}
